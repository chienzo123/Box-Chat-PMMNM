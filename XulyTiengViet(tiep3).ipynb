{
  "nbformat": 4,
  "nbformat_minor": 0,
  "metadata": {
    "colab": {
      "name": "XulyTiengViet(tiep3).ipynb",
      "provenance": [],
      "collapsed_sections": []
    },
    "kernelspec": {
      "name": "python3",
      "display_name": "Python 3"
    },
    "language_info": {
      "name": "python"
    }
  },
  "cells": [
    {
      "cell_type": "markdown",
      "metadata": {
        "id": "rzCcNeKCVR06"
      },
      "source": [
        "Trong phần này sẽ thay thế bóc tách từ tiếng việt từ underthesea thành Pyvi"
      ]
    },
    {
      "cell_type": "code",
      "metadata": {
        "colab": {
          "base_uri": "https://localhost:8080/"
        },
        "id": "2D1LxbszU9C4",
        "outputId": "df0a12cb-7a32-4256-9478-1a7856fdcd4b"
      },
      "source": [
        "!pip install pyvi"
      ],
      "execution_count": 1,
      "outputs": [
        {
          "output_type": "stream",
          "text": [
            "Collecting pyvi\n",
            "  Downloading pyvi-0.1.1-py2.py3-none-any.whl (8.5 MB)\n",
            "\u001b[K     |████████████████████████████████| 8.5 MB 17.9 MB/s \n",
            "\u001b[?25hRequirement already satisfied: scikit-learn in /usr/local/lib/python3.7/dist-packages (from pyvi) (0.22.2.post1)\n",
            "Collecting sklearn-crfsuite\n",
            "  Downloading sklearn_crfsuite-0.3.6-py2.py3-none-any.whl (12 kB)\n",
            "Requirement already satisfied: numpy>=1.11.0 in /usr/local/lib/python3.7/dist-packages (from scikit-learn->pyvi) (1.19.5)\n",
            "Requirement already satisfied: joblib>=0.11 in /usr/local/lib/python3.7/dist-packages (from scikit-learn->pyvi) (1.0.1)\n",
            "Requirement already satisfied: scipy>=0.17.0 in /usr/local/lib/python3.7/dist-packages (from scikit-learn->pyvi) (1.4.1)\n",
            "Requirement already satisfied: tqdm>=2.0 in /usr/local/lib/python3.7/dist-packages (from sklearn-crfsuite->pyvi) (4.62.0)\n",
            "Requirement already satisfied: tabulate in /usr/local/lib/python3.7/dist-packages (from sklearn-crfsuite->pyvi) (0.8.9)\n",
            "Collecting python-crfsuite>=0.8.3\n",
            "  Downloading python_crfsuite-0.9.7-cp37-cp37m-manylinux1_x86_64.whl (743 kB)\n",
            "\u001b[K     |████████████████████████████████| 743 kB 60.9 MB/s \n",
            "\u001b[?25hRequirement already satisfied: six in /usr/local/lib/python3.7/dist-packages (from sklearn-crfsuite->pyvi) (1.15.0)\n",
            "Installing collected packages: python-crfsuite, sklearn-crfsuite, pyvi\n",
            "Successfully installed python-crfsuite-0.9.7 pyvi-0.1.1 sklearn-crfsuite-0.3.6\n"
          ],
          "name": "stdout"
        }
      ]
    },
    {
      "cell_type": "code",
      "metadata": {
        "id": "Aw9Opdf2VQwD"
      },
      "source": [
        "from sklearn import preprocessing\n",
        "import numpy as np\n",
        "import pandas as pd\n",
        "from sklearn.feature_extraction.text import CountVectorizer, TfidfVectorizer\n",
        "from pyvi import ViTokenizer\n",
        "import re\n",
        "from sklearn.feature_extraction.text import CountVectorizer\n",
        "from sklearn.model_selection import train_test_split\n",
        "from sklearn.naive_bayes import MultinomialNB\n",
        "import pickle\n",
        "import nltk\n",
        "from sklearn.model_selection import KFold\n",
        "from sklearn.model_selection import cross_val_score\n",
        "from sklearn.metrics import accuracy_score"
      ],
      "execution_count": 2,
      "outputs": []
    },
    {
      "cell_type": "code",
      "metadata": {
        "colab": {
          "base_uri": "https://localhost:8080/"
        },
        "id": "KEgLpucZVfrK",
        "outputId": "57f51588-3a91-466d-e64d-828a98273298"
      },
      "source": [
        "data = pd.read_excel('/content/Data2.xlsx')\n",
        "X= data[\"question\"]\n",
        "Y= data[\"answer\"]\n",
        "print(\"thuoc tinh dieu kien\")\n",
        "print(X)\n",
        "print(\"thuoc tinh can du doan\")\n",
        "print(Y)"
      ],
      "execution_count": 7,
      "outputs": [
        {
          "output_type": "stream",
          "text": [
            "thuoc tinh dieu kien\n",
            "0                                            Tạm biệt bot\n",
            "1                                                 Goodbye\n",
            "2                                    Tạm biệt mày nhé bot\n",
            "3                                           Chào tạm biệt\n",
            "4                                Ngày mai gặp lại nhé bot\n",
            "                              ...                        \n",
            "2372    Điểm đầu vào năm 2018 ngành kỹ thuật phần mềm ...\n",
            "2373    Năm 2018 ngành kỹ thuật phần mềm điểm đầu vào ...\n",
            "2374        Điểm đầu vào ngành kỹ thuật phần mềm năm 2018\n",
            "2375    Điểm đầu vào ngành kỹ thuật phần mềm trường đạ...\n",
            "2376        Điểm đầu vào năm 2018 ngành kỹ thuật phần mềm\n",
            "Name: question, Length: 2377, dtype: object\n",
            "thuoc tinh can du doan\n",
            "0                                                     bye\n",
            "1                                                     bye\n",
            "2                                                     bye\n",
            "3                                                     bye\n",
            "4                                                     bye\n",
            "                              ...                        \n",
            "2372    Điểm chuẩn ngành kỹ thuật phần mềm năm 2018: 2...\n",
            "2373    Điểm chuẩn ngành kỹ thuật phần mềm năm 2018: 2...\n",
            "2374    Điểm chuẩn ngành kỹ thuật phần mềm năm 2018: 2...\n",
            "2375    Điểm chuẩn ngành kỹ thuật phần mềm năm 2018: 2...\n",
            "2376    Điểm chuẩn ngành kỹ thuật phần mềm năm 2018: 2...\n",
            "Name: answer, Length: 2377, dtype: object\n"
          ],
          "name": "stdout"
        }
      ]
    },
    {
      "cell_type": "code",
      "metadata": {
        "colab": {
          "base_uri": "https://localhost:8080/"
        },
        "id": "7hF-LDj-Vjhp",
        "outputId": "d47d6454-fab6-444b-c31f-1a3de923c510"
      },
      "source": [
        "#Tiep theo chung ta se ma hoa Y sao cho no hop ly\n",
        "le = preprocessing.LabelEncoder()\n",
        "le.fit(Y)\n",
        "\n",
        "list_label = list(le.classes_)\n",
        "\n",
        "print(list_label)\n",
        "print(len(list_label))\n",
        "\n",
        "label = le.transform(Y)\n",
        "print(label)"
      ],
      "execution_count": 8,
      "outputs": [
        {
          "output_type": "stream",
          "text": [
            "['Chỉ tiêu xét tuyển ngành công nghệ thông tin: 390', 'Chỉ tiêu xét tuyển ngành hệ thống thông tin: 120', 'Chỉ tiêu xét tuyển ngành hệ thống thông tin: 130', 'Chỉ tiêu xét tuyển ngành khoa học máy tính: 120', 'Chỉ tiêu xét tuyển ngành kỹ thuật phần mềm: 250', 'Các hoạt động ngoại khóa: CLB tin học, CLB Tiếng Anh, CLB tình nguyện, CLB văn nghệ,….', 'Các khoa thường xuyên tổ chức các chương trình văn nghệ thường niên các sinh viên giao lưu học hỏi', 'Có 3 loại phòng kí túc xá: Phòng thường, chất lượng cao và vip. Giá từ 100.000 đến 550.000', 'Có 3 loại phòng kí túc xá: Phòng thường, chất lượng cao và vip. Giá từ 100.000 đến 550.001', 'Có 3 loại phòng kí túc xá: Phòng thường, chất lượng cao và vip. Giá từ 100.000 đến 550.002', 'Có 3 loại phòng kí túc xá: Phòng thường, chất lượng cao và vip. Giá từ 100.000 đến 550.003', 'Có 3 loại phòng kí túc xá: Phòng thường, chất lượng cao và vip. Giá từ 100.000 đến 550.004', 'Có 3 loại phòng kí túc xá: Phòng thường, chất lượng cao và vip. Giá từ 100.000 đến 550.005', 'Có 3 loại phòng kí túc xá: Phòng thường, chất lượng cao và vip. Giá từ 100.000 đến 550.006', 'Có 3 loại phòng kí túc xá: Phòng thường, chất lượng cao và vip. Giá từ 100.000 đến 550.007', 'Có 3 loại phòng kí túc xá: Phòng thường, chất lượng cao và vip. Giá từ 100.000 đến 550.008', 'Có 3 loại phòng kí túc xá: Phòng thường, chất lượng cao và vip. Giá từ 100.000 đến 550.009', 'Có 3 loại phòng kí túc xá: Phòng thường, chất lượng cao và vip. Giá từ 100.000 đến 550.010', 'Có 3 loại phòng kí túc xá: Phòng thường, chất lượng cao và vip. Giá từ 100.000 đến 550.011', 'Có 3 loại phòng kí túc xá: Phòng thường, chất lượng cao và vip. Giá từ 100.000 đến 550.012', 'Có 3 loại phòng kí túc xá: Phòng thường, chất lượng cao và vip. Giá từ 100.000 đến 550.013', 'Có 3 loại phòng kí túc xá: Phòng thường, chất lượng cao và vip. Giá từ 100.000 đến 550.014', 'Có 3 loại phòng kí túc xá: Phòng thường, chất lượng cao và vip. Giá từ 100.000 đến 550.015', 'Có 3 loại phòng kí túc xá: Phòng thường, chất lượng cao và vip. Giá từ 100.000 đến 550.016', 'Có 3 loại phòng kí túc xá: Phòng thường, chất lượng cao và vip. Giá từ 100.000 đến 550.017', 'Có 3 loại phòng kí túc xá: Phòng thường, chất lượng cao và vip. Giá từ 100.000 đến 550.018', 'Có 3 loại phòng kí túc xá: Phòng thường, chất lượng cao và vip. Giá từ 100.000 đến 550.019', 'Có 3 loại phòng kí túc xá: Phòng thường, chất lượng cao và vip. Giá từ 100.000 đến 550.020', 'Có 3 loại phòng kí túc xá: Phòng thường, chất lượng cao và vip. Giá từ 100.000 đến 550.021', 'Có 3 loại phòng kí túc xá: Phòng thường, chất lượng cao và vip. Giá từ 100.000 đến 550.022', 'Có 3 loại phòng kí túc xá: Phòng thường, chất lượng cao và vip. Giá từ 100.000 đến 550.023', 'Có 3 loại phòng kí túc xá: Phòng thường, chất lượng cao và vip. Giá từ 100.000 đến 550.024', 'Có 3 loại phòng kí túc xá: Phòng thường, chất lượng cao và vip. Giá từ 100.000 đến 550.025', 'Có 3 loại phòng kí túc xá: Phòng thường, chất lượng cao và vip. Giá từ 100.000 đến 550.026', 'Có 3 loại phòng kí túc xá: Phòng thường, chất lượng cao và vip. Giá từ 100.000 đến 550.027', 'Có 3 loại phòng kí túc xá: Phòng thường, chất lượng cao và vip. Giá từ 100.000 đến 550.028', 'Có 3 loại phòng kí túc xá: Phòng thường, chất lượng cao và vip. Giá từ 100.000 đến 550.029', 'Có 3 loại phòng kí túc xá: Phòng thường, chất lượng cao và vip. Giá từ 100.000 đến 550.030', 'Có 3 loại phòng kí túc xá: Phòng thường, chất lượng cao và vip. Giá từ 100.000 đến 550.031', 'Có 3 loại phòng kí túc xá: Phòng thường, chất lượng cao và vip. Giá từ 100.000 đến 550.032', 'Có 3 loại phòng kí túc xá: Phòng thường, chất lượng cao và vip. Giá từ 100.000 đến 550.033', 'Có 3 loại phòng kí túc xá: Phòng thường, chất lượng cao và vip. Giá từ 100.000 đến 550.034', 'Có 3 loại phòng kí túc xá: Phòng thường, chất lượng cao và vip. Giá từ 100.000 đến 550.035', 'Có 3 loại phòng kí túc xá: Phòng thường, chất lượng cao và vip. Giá từ 100.000 đến 550.036', 'Có 3 loại phòng kí túc xá: Phòng thường, chất lượng cao và vip. Giá từ 100.000 đến 550.037', 'Có 3 loại phòng kí túc xá: Phòng thường, chất lượng cao và vip. Giá từ 100.000 đến 550.038', 'Có 4 ngành: Công nghệ thông tin, Khoa học máy tính, Hệ thống thông tin, Kỹ Thuật phần mềm', 'Có nhiều phòng thực hành với máy cấu hình cao đáp ứng đầy đủ yêu cầu học tập cho các học phần.', 'Có đầy đủ kiến thức và kỹ năng có thể đáp ứng nhu cầu nhà tuyển dụng', 'Cả 3 cơ sở đều có kí túc xá trong trường với những giá tiền các loại phòng khác nhau  ở từng cơ sở', 'Giỏi toán giúp ta rèn luyện tư duy logic.', 'Hàng kỳ, nhà trường dành một phần kinh phí để trao học bổng cho sinh viên đạt kết quả cao trong học tập.', 'Hình thức đào tạo ngành công nghệ thông tin: Hình thức chính quy', 'Hình thức đào tạo ngành hệ thống thông tin: Hình thức chính quy', 'Hình thức đào tạo ngành khoa học máy tính: Hình thức chính quy', 'Hình thức đào tạo ngành kỹ thuật phần mềm: Hình thức chính quy', 'Khoa có các câu lạc bộ: HIT (chuyên về học thuật), ISTAR (Văn nghệ),CLB Tiếng Anh,Thanh niên tình nguyện…', 'Không bị nợ môn nào và điểm tích lũy 2.5 trở lên', 'Không bị nợ môn và có tích lũy 2.5 trở lên', 'Không nợ môn nào và có điểm tích lũy 2.5 trở lên', 'Không nợ môn nào, điểm tích lũy 2.5 trở lên', 'Mã ngành công nghệ thông tin: 7480201', 'Mã ngành hệ thống thông tin: 7480104', 'Mã ngành khoa học máy tính: 7480101', 'Mã ngành kỹ thuật phần mềm: 7480103', 'Ngành công nghệ thông tin cần đạt trình độ ngoại ngữ bậc 3', 'Ngành công nghệ thông tin sinh viên được học: Nền tảng khoa học tự nhiên, kiến thức cơ bản mạng máy máy, lập trình, phần mềm,…', 'Ngành công nghệ thông tin thực tập tốt nghiệp vào cuối năm 4', 'Ngành công nghệ thông tin đào tạo: Công nghệ mạng, các ngôn ngữ lập trình, trí tuệ nhân tạo(AI) và các kỹ năng mềm,….', 'Ngành hệ thống thông tin cần đạt trình độ ngoại ngữ bậc 3', 'Ngành hệ thống thông tin sinh viên được học: Nền tảng khoa học tự nhiên, kiến thức cơ bản mạng máy máy, lập trình, phần mềm,…', 'Ngành hệ thống thông tin thực tập tốt nghiệp vào cuối năm 4', 'Ngành hệ thống thông tin đào tạo: Công nghệ mạng, các ngôn ngữ lập trình, trí tuệ nhân tạo(AI) và các kỹ năng mềm,….', 'Ngành khoa học máy tính cần đạt trình độ ngoại ngữ bậc 3', 'Ngành khoa học máy tính sinh viên được học: Nền tảng khoa học tự nhiên, kiến thức cơ bản mạng máy máy, lập trình, phần mềm,…', 'Ngành khoa học máy tính thực tập tốt nghiệp vào cuối năm 4', 'Ngành khoa học máy tính đào tạo: Công nghệ mạng, các ngôn ngữ lập trình, trí tuệ nhân tạo(AI) và các kỹ năng mềm,….', 'Ngành kỹ thuật phần mềm cần đạt trình độ ngoại ngữ bậc 3', 'Ngành kỹ thuật phần mềm sinh viên được học: Nền tảng khoa học tự nhiên, kiến thức cơ bản mạng máy máy, lập trình, phần mềm,…', 'Ngành kỹ thuật phần mềm thực tập tốt nghiệp vào cuối năm 4', 'Ngành kỹ thuật phần mềm đào tạo: Công nghệ mạng, các ngôn ngữ lập trình, trí tuệ nhân tạo(AI) và các kỹ năng mềm,….', 'Những công việc ngành công nghệ thông tin: Lập trình web, Quản trị mạng, Phân tích dữ liệu, Trí tuệ nhân tạo…', 'Những công việc ngành hệ thống thông tin: Lập trình web, Quản trị mạng, Phân tích dữ liệu, Trí tuệ nhân tạo…', 'Những công việc ngành khoa học máy tính: Lập trình web, Quản trị mạng, Phân tích dữ liệu, Trí tuệ nhân tạo…', 'Những công việc ngành kỹ thuật phần mềm: Lập trình web, Quản trị mạng, Phân tích dữ liệu, Trí tuệ nhân tạo…', 'Những ngôn ngữ lập trình: C, C++, C#, Java, JavaScript, Python, PHP.', 'Những ngôn ngữ lập trình: C, C++, Java, C#, JavaScript, PHP, Python.', 'Những ngôn ngữ lập trình: Java, C, C++, C#, JavaScript, PHP, Python.', 'Năm nhất sẽ đi quân sự ở cơ sở 3 Hà Nam với thời gian 4 tuần', 'Năm đầu học ở cơ sở 3(Phủ Lý, Hà Nam)', 'Sau tốt nghiệp, làm những lĩnh vực ngành công nghệ thông tin: Các doanh nghiệp thiết kế, gia công, phát triển phầm mềm', 'Sau tốt nghiệp, làm những lĩnh vực ngành hệ thống thông tin: Các doanh nghiệp thiết kế, gia công, phát triển phầm mềm', 'Sau tốt nghiệp, làm những lĩnh vực ngành khoa học máy tính: Các doanh nghiệp thiết kế, gia công, phát triển phầm mềm', 'Sau tốt nghiệp, làm những lĩnh vực ngành kỹ thuật phần mềm: Các doanh nghiệp thiết kế, gia công, phát triển phầm mềm', 'Sinh viên câu lạc bộ  được lợi ích  giao lưu học hỏi nhiều hơn về kiến thức cũng như khả năng giao tiếp,….', 'Thông minh và sáng tạo, đam mê công nghệ, trình độ ngoại ngữ, trau dồi kiến thức, ham học hỏi.', 'Thời gian đào tạo ngành công nghệ thông tin: 4 năm', 'Thời gian đào tạo ngành hệ thống thông tin: 4 năm', 'Thời gian đào tạo ngành khoa học máy tính: 4 năm', 'Thời gian đào tạo ngành kỹ thuật phần mềm: 4 năm', 'Trường Đại Học Công Nghiệp Hà Nội là trường uy tín chất lượng cao. Sau khi ra trường sinh viên có thể đáp ứng đủ nhu cầu của nhà tuyển dụng', 'Trọ ở những khu vực tây tựu,văn trì và những nơi xung quanh trường giá rất rẻ, hợp lý…', 'Tổ hợp xét tuyển ngành công nghệ thông tin: A00, A01', 'Tổ hợp xét tuyển ngành hệ thống thông tin: A00, A01', 'Tổ hợp xét tuyển ngành khoa học máy tính: A00, A01', 'Tổ hợp xét tuyển ngành kỹ thuật phần mềm: A00, A01', 'Tổng tín chỉ ngành hệ thống thông tin: 149 ', 'Tổng tín chỉ ngành khoa học máy tính: 149 ', 'Tổng tín chỉ ngành kỹ thuật phần mềm: 147', 'Tổng tính chỉ ngành công nghệ thông tin: 149 ', 'Văn phòng khoa công nghệ thông tin: Tầng 6 nhà A1 Đại Học Công Nghiệp Hà Nội', 'Website: fit.haui.edu.vn', 'bye', 'cảm ơn bạn', 'cố lên ', 'hí hí hí hí …..', 'noanswer', 'thật', 'tôi không biết', 'tôi được tạo bởi các thành viên trong nhóm 16 môn mã nguồn mở', 'xin chào bạn, chúng tôi có thể giúp được gì cho bạn', 'xin lỗi bạn', 'Đam mê công nghệ, thông minh và có óc sáng tạo, ham học hỏi, trau dồi kiến thức, trình độ ngoại ngữ.', 'Đam mê công nghệ, thông minh và có óc sáng tạo, ham học hỏi, trình độ ngoại ngữ, trau dồi kiến thức.', 'Đam mê công nghệ, thông minh và có óc sáng tạo, trình độ ngoại ngữ, trau dồi kiến thức, ham học hỏi.', 'Điểm chuẩn ngành công nghệ thông tin năm 2018: 20.6 điểm', 'Điểm chuẩn ngành công nghệ thông tin năm 2019: 23 điểm', 'Điểm chuẩn ngành công nghệ thông tin năm 2020: 25.6 điểm', 'Điểm chuẩn ngành công nghệ thông tin năm 2021: 25.8 điểm', 'Điểm chuẩn ngành hệ thống thông tin năm 2018: 19 điểm', 'Điểm chuẩn ngành hệ thống thông tin năm 2019: 22.6 điểm', 'Điểm chuẩn ngành hệ thống thông tin năm 2020: 24.6 điểm', 'Điểm chuẩn ngành hệ thống thông tin năm 2021: 23.6 điểm', 'Điểm chuẩn ngành khoa học máy tính năm 2018: 19.6 điểm', 'Điểm chuẩn ngành khoa học máy tính năm 2019: 22 điểm', 'Điểm chuẩn ngành khoa học máy tính năm 2020: 23 điểm', 'Điểm chuẩn ngành khoa học máy tính năm 2021: 24 điểm', 'Điểm chuẩn ngành kỹ thuật phần mềm năm 2018: 20.2 điểm', 'Điểm chuẩn ngành kỹ thuật phần mềm năm 2019: 24.2 điểm', 'Điểm chuẩn ngành kỹ thuật phần mềm năm 2020: 25.2 điểm', 'Điểm chuẩn ngành kỹ thuật phần mềm năm 2021: 24.4 điểm', 'Đối tượng tuyển sinh ngành công nghệ thông tin: Học sinh tốt nghiệp THPT hoặc tương đương', 'Đối tượng tuyển sinh ngành hệ thống thông tin: Học sinh tốt nghiệp THPT hoặc tương đương', 'Đối tượng tuyển sinh ngành khoa học máy tính: Học sinh tốt nghiệp THPT hoặc tương đương', 'Đối tượng tuyển sinh ngành kỹ thuật phần mềm: Học sinh tốt nghiệp THPT hoặc tương đương']\n",
            "145\n",
            "[112 112 112 ... 137 137 137]\n"
          ],
          "name": "stdout"
        }
      ]
    },
    {
      "cell_type": "code",
      "metadata": {
        "id": "4kFZKbafVz-r"
      },
      "source": [
        "def tienxuly(document): \n",
        "    document = ViTokenizer.tokenize(document)\n",
        "    # đưa về lower\n",
        "    document = document.lower()\n",
        "    # xóa các ký tự không cần thiết\n",
        "    document = re.sub(r'[^\\s\\wáàảãạăắằẳẵặâấầẩẫậéèẻẽẹêếềểễệóòỏõọôốồổỗộơớờởỡợíìỉĩịúùủũụưứừửữựýỳỷỹỵđ_]',' ',document)\n",
        "    # xóa khoảng trắng thừa\n",
        "    document = re.sub(r'\\s+', ' ', document).strip()\n",
        "    return document"
      ],
      "execution_count": 9,
      "outputs": []
    },
    {
      "cell_type": "code",
      "metadata": {
        "colab": {
          "base_uri": "https://localhost:8080/"
        },
        "id": "_hz63sz9Xgpw",
        "outputId": "f2c35dfc-fe5b-4fb1-df5a-6d6e163dff4b"
      },
      "source": [
        "for i in range(0,X.count()):\n",
        "  X[i] = tienxuly(X[i])\n",
        "\n",
        "X"
      ],
      "execution_count": 10,
      "outputs": [
        {
          "output_type": "execute_result",
          "data": {
            "text/plain": [
              "0                                            tạm_biệt bot\n",
              "1                                                 goodbye\n",
              "2                                    tạm_biệt mày nhé bot\n",
              "3                                           chào tạm_biệt\n",
              "4                                ngày_mai gặp lại nhé bot\n",
              "                              ...                        \n",
              "2372    điểm đầu_vào năm 2018 ngành kỹ_thuật phần_mềm ...\n",
              "2373    năm 2018 ngành kỹ_thuật phần_mềm điểm đầu_vào ...\n",
              "2374        điểm đầu_vào ngành kỹ_thuật phần_mềm năm 2018\n",
              "2375    điểm đầu_vào ngành kỹ_thuật phần_mềm trường đạ...\n",
              "2376        điểm đầu_vào năm 2018 ngành kỹ_thuật phần_mềm\n",
              "Name: question, Length: 2377, dtype: object"
            ]
          },
          "metadata": {
            "tags": []
          },
          "execution_count": 10
        }
      ]
    },
    {
      "cell_type": "code",
      "metadata": {
        "colab": {
          "base_uri": "https://localhost:8080/",
          "height": 333
        },
        "id": "o0oaY0SaXklo",
        "outputId": "0d88aae7-9f68-485e-fb88-83282b6e1fbc"
      },
      "source": [
        "#chung ta se loai bo stop word trong van ban\n",
        "\n",
        "\n",
        "#bay h dau tien minh muon biet cac stop word o dau va cho nao\n",
        "\n",
        "#tokens = [t for t in text.split()]\n",
        "tokens = []\n",
        "\n",
        "for i in range(0,X.count()):\n",
        "  for j in X[i].split():\n",
        "    tokens.append(j)\n",
        "\n",
        "freq = nltk.FreqDist(tokens)\n",
        "freq.plot(20, cumulative=False)"
      ],
      "execution_count": 11,
      "outputs": [
        {
          "output_type": "display_data",
          "data": {
            "image/png": "[encoded data removed]",
            "text/plain": [
              "<Figure size 432x288 with 1 Axes>"
            ]
          },
          "metadata": {
            "tags": [],
            "needs_background": "light"
          }
        }
      ]
    },
    {
      "cell_type": "code",
      "metadata": {
        "colab": {
          "base_uri": "https://localhost:8080/",
          "height": 54
        },
        "id": "8cWiDWlSXqsS",
        "outputId": "b839542f-b768-4b2f-acb6-d085bdaa6674"
      },
      "source": [
        "#nhu vay chung ta biet mot so tu xuat hien xuat hien thuong xuyen va no se anh huong toi mo hinh can du doan\n",
        "#chung ta se loai bo chung de cho model co do chinh xac cao hon\n",
        "\n",
        "stopword = [\"nghành\",\"gì\",\"là\",\"trường\",\"năm\"]\n",
        " \n",
        "def remove_stopwords(line):\n",
        "    words = []\n",
        "    for word in line.strip().split():\n",
        "        if word not in stopword:\n",
        "            words.append(word)\n",
        "    return ' '.join(words)\n",
        "\n",
        "print(X[4])\n",
        "demo = remove_stopwords(X[4])\n",
        "demo"
      ],
      "execution_count": 12,
      "outputs": [
        {
          "output_type": "stream",
          "text": [
            "ngày_mai gặp lại nhé bot\n"
          ],
          "name": "stdout"
        },
        {
          "output_type": "execute_result",
          "data": {
            "application/vnd.google.colaboratory.intrinsic+json": {
              "type": "string"
            },
            "text/plain": [
              "'ngày_mai gặp lại nhé bot'"
            ]
          },
          "metadata": {
            "tags": []
          },
          "execution_count": 12
        }
      ]
    },
    {
      "cell_type": "code",
      "metadata": {
        "id": "6ow-QIMOX3zZ"
      },
      "source": [
        "for i in range(0,X.count()):\n",
        "  X[i]= remove_stopwords(X[i])"
      ],
      "execution_count": 13,
      "outputs": []
    },
    {
      "cell_type": "code",
      "metadata": {
        "id": "kzvWVAZeX7cA"
      },
      "source": [
        "#buoc tiep theo chung ta se xay dung bo tu dien cho may hoc\n",
        "vectorizer = CountVectorizer()\n",
        "\n",
        "def transform(data):\n",
        "  data= list(data)\n",
        "  return vectorizer.fit_transform(data).todense()\n",
        "\n",
        "data1 = transform(X)"
      ],
      "execution_count": 14,
      "outputs": []
    },
    {
      "cell_type": "code",
      "metadata": {
        "colab": {
          "base_uri": "https://localhost:8080/"
        },
        "id": "bLUFQCKjX-jY",
        "outputId": "4b56d6d0-9b4d-4870-c59e-8f755b475711"
      },
      "source": [
        "print(data1)"
      ],
      "execution_count": 15,
      "outputs": [
        {
          "output_type": "stream",
          "text": [
            "[[0 0 0 ... 0 0 0]\n",
            " [0 0 0 ... 0 0 0]\n",
            " [0 0 0 ... 0 0 0]\n",
            " ...\n",
            " [1 0 0 ... 0 0 0]\n",
            " [1 0 0 ... 0 0 0]\n",
            " [1 0 0 ... 0 0 0]]\n"
          ],
          "name": "stdout"
        }
      ]
    },
    {
      "cell_type": "code",
      "metadata": {
        "colab": {
          "base_uri": "https://localhost:8080/"
        },
        "id": "pZTttpvcYDaq",
        "outputId": "2148362f-76c5-47ae-f322-8e8dbb1fb0b7"
      },
      "source": [
        "#chia du lieu ra lam 2 phan\n",
        "X_train, X_test, Y_train, Y_test = train_test_split(data1, label, test_size=0.1, random_state=0)\n",
        "print(X_train)\n",
        "print(X_test)\n",
        "print(Y_train)\n",
        "print(Y_test)"
      ],
      "execution_count": 16,
      "outputs": [
        {
          "output_type": "stream",
          "text": [
            "[[1 0 0 ... 0 0 0]\n",
            " [1 0 0 ... 0 0 0]\n",
            " [0 0 0 ... 0 0 0]\n",
            " ...\n",
            " [0 0 0 ... 0 0 0]\n",
            " [0 0 0 ... 0 0 0]\n",
            " [0 0 0 ... 0 0 0]]\n",
            "[[0 0 0 ... 0 0 0]\n",
            " [0 0 0 ... 0 0 0]\n",
            " [0 0 0 ... 0 0 0]\n",
            " ...\n",
            " [0 0 0 ... 0 0 0]\n",
            " [0 0 0 ... 0 0 0]\n",
            " [0 0 0 ... 0 0 0]]\n",
            "[137 137 119 ...  81  84 123]\n",
            "[ 62 116 104  88 128 104  96  83 104  56 110   6 144  82 113 138 111 136\n",
            " 122  52 119  50 111 125  76  50  89 126  53 103 102 140  97 129 103  88\n",
            "  59 112 130 126  50  89 103 140 103  81  58  83 122 132 124  88 116 126\n",
            " 120  99  84  69 125 115 101 132  73  82   4  54 116  98  81 116   3 123\n",
            "  93  83  28  60  92 105 134 142 141  88 138   5 119  26  62 100 127  47\n",
            "  56 113 136  78 126 138  68 138  15 134 112 125  90 143  87  88 120 140\n",
            "  78  78 130 125 107  82  56  83 105 104 100  94 104 130   4 133  96  89\n",
            "  98 113 125  56 120  50 120  94 100 133 137 113  89  49 133  79  94 136\n",
            " 141 140  90  50  54 140 139 136 119 116  82 112 101  85  55 114  88  95\n",
            "  81  50 125 135  83  71  54  63 140  95 116  84  66   4   6 109 125 121\n",
            " 131 116 136 104  94  76   5 130 134 120 131  88  61 130 101  95 100 116\n",
            "  58  56  72  69  50 135 116  93  56 135 108  82 103 119  89  86  54  83\n",
            "  73 101  89  88  76 109  79 128 107  88  56  82  88 120 140  56  56  70\n",
            "  49  49  46  82]\n"
          ],
          "name": "stdout"
        }
      ]
    },
    {
      "cell_type": "code",
      "metadata": {
        "colab": {
          "base_uri": "https://localhost:8080/"
        },
        "id": "c09OCmk6YHeY",
        "outputId": "9a55f1ff-f737-4067-97cd-59e6e3ecba0c"
      },
      "source": [
        "X_test.shape"
      ],
      "execution_count": 17,
      "outputs": [
        {
          "output_type": "execute_result",
          "data": {
            "text/plain": [
              "(238, 573)"
            ]
          },
          "metadata": {
            "tags": []
          },
          "execution_count": 17
        }
      ]
    },
    {
      "cell_type": "code",
      "metadata": {
        "colab": {
          "base_uri": "https://localhost:8080/"
        },
        "id": "D1bdvRk2YLji",
        "outputId": "3c79767a-eb7d-42cd-e0db-8a6ab8bb71cd"
      },
      "source": [
        "#khoi tao mo hinh\n",
        "#chung ta se dung loai mo hinh multinomial Naive Bayes de phan loai\n",
        "\n",
        "clf= MultinomialNB()\n",
        "scores = cross_val_score(clf, X_train, Y_train, cv=5)\n",
        "print(\"%0.2f  accuracy with a standard deviation of %0.2f\" % (scores.mean()*100, scores.std()))"
      ],
      "execution_count": 18,
      "outputs": [
        {
          "output_type": "stream",
          "text": [
            "/usr/local/lib/python3.7/dist-packages/sklearn/model_selection/_split.py:667: UserWarning: The least populated class in y has only 1 members, which is less than n_splits=5.\n",
            "  % (min_groups, self.n_splits)), UserWarning)\n"
          ],
          "name": "stderr"
        },
        {
          "output_type": "stream",
          "text": [
            "79.34  accuracy with a standard deviation of 0.02\n"
          ],
          "name": "stdout"
        }
      ]
    },
    {
      "cell_type": "code",
      "metadata": {
        "colab": {
          "base_uri": "https://localhost:8080/"
        },
        "id": "PpwAHcFXYP_A",
        "outputId": "068d127d-59ca-402d-af7c-2ce4f7752024"
      },
      "source": [
        "#dua du lieu vao cho model hoc\n",
        "clf.fit(X_train,Y_train)"
      ],
      "execution_count": 19,
      "outputs": [
        {
          "output_type": "execute_result",
          "data": {
            "text/plain": [
              "MultinomialNB(alpha=1.0, class_prior=None, fit_prior=True)"
            ]
          },
          "metadata": {
            "tags": []
          },
          "execution_count": 19
        }
      ]
    },
    {
      "cell_type": "code",
      "metadata": {
        "colab": {
          "base_uri": "https://localhost:8080/"
        },
        "id": "-0TWQ3ODYXYY",
        "outputId": "b76c374a-65ee-4f99-b41c-da8ffe41b037"
      },
      "source": [
        "#kiem tra voi du lieu testing xem do chinh xac cua no la bao nhieu\n",
        "\n",
        "prediction = clf.predict(X_test)\n",
        "print(\"Độ chính xác so với dữ liệu dự đoán và dữ liệu test là: \")\n",
        "accuracy_score(Y_test, prediction)"
      ],
      "execution_count": 20,
      "outputs": [
        {
          "output_type": "stream",
          "text": [
            "Độ chính xác so với dữ liệu dự đoán và dữ liệu test là: \n"
          ],
          "name": "stdout"
        },
        {
          "output_type": "execute_result",
          "data": {
            "text/plain": [
              "0.7857142857142857"
            ]
          },
          "metadata": {
            "tags": []
          },
          "execution_count": 20
        }
      ]
    },
    {
      "cell_type": "code",
      "metadata": {
        "id": "TRuIiAEzYZyg"
      },
      "source": [
        "#bay h se luu file tu vung lai de dung cho sau nay\n",
        "\n",
        "pickle.dump(vectorizer.vocabulary_, open('vocab.pkl', 'wb')) #luu lai\n",
        "pickle.dump(clf, open('NB_ChatBot_model.pkl', 'wb')) #luu model lai\n",
        "#luu cach ma hoa cua nhan lai\n",
        "pickle.dump(le, open('decode_label.pkl', 'wb'))"
      ],
      "execution_count": 21,
      "outputs": []
    }
  ]
}
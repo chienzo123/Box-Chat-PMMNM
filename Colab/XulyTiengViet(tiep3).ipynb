{
  "nbformat": 4,
  "nbformat_minor": 0,
  "metadata": {
    "colab": {
      "name": "XulyTiengViet(tiep3).ipynb",
      "provenance": [],
      "collapsed_sections": []
    },
    "kernelspec": {
      "name": "python3",
      "display_name": "Python 3"
    },
    "language_info": {
      "name": "python"
    }
  },
  "cells": [
    {
      "cell_type": "markdown",
      "metadata": {
        "id": "rzCcNeKCVR06"
      },
      "source": [
        "Trong phần này sẽ thay thế bóc tách từ tiếng việt từ underthesea thành Pyvi"
      ]
    },
    {
      "cell_type": "code",
      "metadata": {
        "colab": {
          "base_uri": "https://localhost:8080/"
        },
        "id": "2D1LxbszU9C4",
        "outputId": "2c0c5fcc-faed-4f0b-89ec-b516201bc7aa"
      },
      "source": [
        "!pip install pyvi"
      ],
      "execution_count": 1,
      "outputs": [
        {
          "output_type": "stream",
          "text": [
            "Collecting pyvi\n",
            "  Downloading pyvi-0.1.1-py2.py3-none-any.whl (8.5 MB)\n",
            "\u001b[K     |████████████████████████████████| 8.5 MB 4.4 MB/s \n",
            "\u001b[?25hRequirement already satisfied: scikit-learn in /usr/local/lib/python3.7/dist-packages (from pyvi) (0.22.2.post1)\n",
            "Collecting sklearn-crfsuite\n",
            "  Downloading sklearn_crfsuite-0.3.6-py2.py3-none-any.whl (12 kB)\n",
            "Requirement already satisfied: scipy>=0.17.0 in /usr/local/lib/python3.7/dist-packages (from scikit-learn->pyvi) (1.4.1)\n",
            "Requirement already satisfied: joblib>=0.11 in /usr/local/lib/python3.7/dist-packages (from scikit-learn->pyvi) (1.0.1)\n",
            "Requirement already satisfied: numpy>=1.11.0 in /usr/local/lib/python3.7/dist-packages (from scikit-learn->pyvi) (1.19.5)\n",
            "Requirement already satisfied: tqdm>=2.0 in /usr/local/lib/python3.7/dist-packages (from sklearn-crfsuite->pyvi) (4.41.1)\n",
            "Requirement already satisfied: six in /usr/local/lib/python3.7/dist-packages (from sklearn-crfsuite->pyvi) (1.15.0)\n",
            "Collecting python-crfsuite>=0.8.3\n",
            "  Downloading python_crfsuite-0.9.7-cp37-cp37m-manylinux1_x86_64.whl (743 kB)\n",
            "\u001b[K     |████████████████████████████████| 743 kB 46.5 MB/s \n",
            "\u001b[?25hRequirement already satisfied: tabulate in /usr/local/lib/python3.7/dist-packages (from sklearn-crfsuite->pyvi) (0.8.9)\n",
            "Installing collected packages: python-crfsuite, sklearn-crfsuite, pyvi\n",
            "Successfully installed python-crfsuite-0.9.7 pyvi-0.1.1 sklearn-crfsuite-0.3.6\n"
          ],
          "name": "stdout"
        }
      ]
    },
    {
      "cell_type": "code",
      "metadata": {
        "id": "Aw9Opdf2VQwD"
      },
      "source": [
        "from sklearn import preprocessing\n",
        "import numpy as np\n",
        "import pandas as pd\n",
        "from sklearn.feature_extraction.text import CountVectorizer, TfidfVectorizer\n",
        "from pyvi import ViTokenizer\n",
        "import re\n",
        "from sklearn.feature_extraction.text import CountVectorizer\n",
        "from sklearn.model_selection import train_test_split\n",
        "from sklearn.naive_bayes import MultinomialNB\n",
        "import pickle\n",
        "import nltk\n",
        "from sklearn.model_selection import KFold\n",
        "from sklearn.model_selection import cross_val_score\n",
        "from sklearn.metrics import accuracy_score"
      ],
      "execution_count": 2,
      "outputs": []
    },
    {
      "cell_type": "code",
      "metadata": {
        "colab": {
          "base_uri": "https://localhost:8080/"
        },
        "id": "KEgLpucZVfrK",
        "outputId": "ea2acae8-a2d4-4a21-ee51-f0b288e082d2"
      },
      "source": [
        "data = pd.read_excel('/content/Data1.xlsx')\n",
        "X= data[\"question\"]\n",
        "Y= data[\"answer\"]\n",
        "print(\"thuoc tinh dieu kien\")\n",
        "print(X)\n",
        "print(\"thuoc tinh can du doan\")\n",
        "print(Y)"
      ],
      "execution_count": 5,
      "outputs": [
        {
          "output_type": "stream",
          "text": [
            "thuoc tinh dieu kien\n",
            "0                                            Tạm biệt bot\n",
            "1                                                 Goodbye\n",
            "2                                    Tạm biệt mày nhé bot\n",
            "3                                           Chào tạm biệt\n",
            "4                                Ngày mai gặp lại nhé bot\n",
            "                              ...                        \n",
            "1074              Khoa công nghệ thông có website là gì ?\n",
            "1075    Khoa công nghệ thông tin trường đại học Công N...\n",
            "1076    Khoa công nghệ thông tin có website trường là ...\n",
            "1077    Website khoa công nghệ thông tin trường đại họ...\n",
            "1078             Website khoa công nghệ thông tin là gì ?\n",
            "Name: question, Length: 1079, dtype: object\n",
            "thuoc tinh can du doan\n",
            "0                            bye\n",
            "1                            bye\n",
            "2                            bye\n",
            "3                            bye\n",
            "4                            bye\n",
            "                  ...           \n",
            "1074    Website: fit.haui.edu.vn\n",
            "1075    Website: fit.haui.edu.vn\n",
            "1076    Website: fit.haui.edu.vn\n",
            "1077    Website: fit.haui.edu.vn\n",
            "1078    Website: fit.haui.edu.vn\n",
            "Name: answer, Length: 1079, dtype: object\n"
          ],
          "name": "stdout"
        }
      ]
    },
    {
      "cell_type": "code",
      "metadata": {
        "colab": {
          "base_uri": "https://localhost:8080/"
        },
        "id": "7hF-LDj-Vjhp",
        "outputId": "5b3094e7-abfa-4aaa-bb99-c30335a6f958"
      },
      "source": [
        "#Tiep theo chung ta se ma hoa Y sao cho no hop ly\n",
        "le = preprocessing.LabelEncoder()\n",
        "le.fit(Y)\n",
        "\n",
        "list_label = list(le.classes_)\n",
        "\n",
        "print(list_label)\n",
        "print(len(list_label))\n",
        "\n",
        "label = le.transform(Y)\n",
        "print(label)"
      ],
      "execution_count": 6,
      "outputs": [
        {
          "output_type": "stream",
          "text": [
            "['Các hoạt động ngoại khóa: CLB tin học, CLB Tiếng Anh, CLB tình nguyện, CLB văn nghệ,….', 'Có 4 ngành: Công nghệ thông tin, Khoa học máy tính, Hệ thống thông tin, Kỹ Thuật phần mềm', 'Có nhiều phòng thực hành với máy cấu hình cao đáp ứng đầy đủ yêu cầu học tập cho các học phần.', 'Có đầy đủ kiến thức và kỹ năng có thể đáp ứng nhu cầu nhà tuyển dụng', 'Giỏi toán giúp ta rèn luyện tư duy logic.', 'Hàng kỳ, nhà trường dành một phần kinh phí để trao học bổng cho sinh viên đạt kết quả cao trong học tập.', 'Hình thức chính quy', 'Khoa có các câu lạc bộ: HIT (chuyên về học thuật), ISTAR (Văn nghệ),CLB Tiếng Anh,Thanh niên tình nguyện…', 'Không bị nợ môn nào và điểm tích lũy 2.5 trở lên', 'Mã ngành công nghệ thông tin: 7480201', 'Mã ngành hệ thống thông tin: 7480104', 'Mã ngành khoa học máy tính: 7480101', 'Mã ngành kỹ thuật phần mềm: 7480103', 'Ngành công nghệ thông tin cần đạt trình độ ngoại ngữ bậc 3', 'Ngành công nghệ thông tin thực tập tốt nghiệp vào cuối năm 4', 'Ngành công nghệ thông tin đào tạo: Công nghệ mạng, các ngôn ngữ lập trình, trí tuệ nhân tạo(AI) và các kỹ năng mềm,….', 'Ngành hệ thống thông tin cần đạt trình độ ngoại ngữ bậc 3', 'Ngành hệ thống thông tin thực tập tốt nghiệp vào cuối năm 4', 'Ngành hệ thống thông tin đào tạo: Công nghệ mạng, các ngôn ngữ lập trình, trí tuệ nhân tạo(AI) và các kỹ năng mềm,….', 'Ngành khoa học máy tính cần đạt trình độ ngoại ngữ bậc 3', 'Ngành khoa học máy tính thực tập tốt nghiệp vào cuối năm 4', 'Ngành khoa học máy tính đào tạo: Công nghệ mạng, các ngôn ngữ lập trình, trí tuệ nhân tạo(AI) và các kỹ năng mềm,….', 'Ngành kỹ thuật phần mềm cần đạt trình độ ngoại ngữ bậc 3', 'Ngành kỹ thuật phần mềm thực tập tốt nghiệp vào cuối năm 4', 'Ngành kỹ thuật phần mềm đào tạo: Công nghệ mạng, các ngôn ngữ lập trình, trí tuệ nhân tạo(AI) và các kỹ năng mềm,….', 'Những công việc ngành công nghệ thông tin: Lập trình web, Quản trị mạng, Phân tích dữ liệu, Trí tuệ nhân tạo…', 'Những công việc ngành hệ thống thông tin: Lập trình web, Quản trị mạng, Phân tích dữ liệu, Trí tuệ nhân tạo…', 'Những công việc ngành khoa học máy tính: Lập trình web, Quản trị mạng, Phân tích dữ liệu, Trí tuệ nhân tạo…', 'Những công việc ngành kỹ thuật phần mềm: Lập trình web, Quản trị mạng, Phân tích dữ liệu, Trí tuệ nhân tạo…', 'Năm đầu học ở cơ sở 3(Phủ Lý, Hà Nam)', 'Nền tảng khoa học tự nhiên, kiến thức cơ bản mạng máy máy, lập trình, phần mềm,…', 'Sau tốt nghiệp, làm những lĩnh vực ngành công nghệ thông tin: Các doanh nghiệp thiết kế, gia công, phát triển phầm mềm', 'Sau tốt nghiệp, làm những lĩnh vực ngành hệ thống thông tin: Các doanh nghiệp thiết kế, gia công, phát triển phầm mềm', 'Sau tốt nghiệp, làm những lĩnh vực ngành khoa học máy tính: Các doanh nghiệp thiết kế, gia công, phát triển phầm mềm', 'Sau tốt nghiệp, làm những lĩnh vực ngành kỹ thuật phần mềm: Các doanh nghiệp thiết kế, gia công, phát triển phầm mềm', 'Trường Đại Học Công Nghiệp Hà Nội là trường uy tín chất lượng cao. Sau khi ra trường sinh viên đáp ứng đủ nhu cầu của nhà tuyển dụng', 'Tổ hợp xét tuyển ngành công nghệ thông tin: A00, A01', 'Tổ hợp xét tuyển ngành hệ thống thông tin: A00, A01', 'Tổ hợp xét tuyển ngành khoa học máy tính: A00, A01', 'Tổ hợp xét tuyển ngành kỹ thuật phần mềm: A00, A01', 'Tổng tín chỉ ngành hệ thống thông tin: 149 ', 'Tổng tín chỉ ngành khoa học máy tính: 149 ', 'Tổng tín chỉ ngành kỹ thuật phần mềm: 147', 'Tổng tính chỉ ngành công nghệ thông tin: 149 ', 'Văn phòng khoa công nghệ thông tin: Tầng 6 nhà A1 Đại Học Công Nghiệp Hà Nội', 'Website: fit.haui.edu.vn', 'bye', 'cảm ơn bạn', 'cố lên ', 'hí hí hí hí …..', 'noanswer', 'tôi được tạo bởi các thành viên trong nhóm 16 môn mã nguồn mở', 'xin chào bạn, chúng tôi có thể giúp được gì cho bạn', 'xin lỗi bạn', 'Đam mê công nghệ, thông min và có óc sáng tạo, ham học hỏi, trau dồi kiến thức, trình độ ngoại ngữ.', 'Đối tượng tuyển sinh ngành công nghệ thông tin: Học sinh tốt nghiệp THPT hoặc tương đương', 'Đối tượng tuyển sinh ngành hệ thống thông tin: Học sinh tốt nghiệp THPT hoặc tương đương', 'Đối tượng tuyển sinh ngành khoa học máy tính: Học sinh tốt nghiệp THPT hoặc tương đương', 'Đối tượng tuyển sinh ngành kỹ thuật phần mềm: Học sinh tốt nghiệp THPT hoặc tương đương']\n",
            "59\n",
            "[46 46 46 ... 45 45 45]\n"
          ],
          "name": "stdout"
        }
      ]
    },
    {
      "cell_type": "code",
      "metadata": {
        "id": "4kFZKbafVz-r"
      },
      "source": [
        "def tienxuly(document): \n",
        "    document = ViTokenizer.tokenize(document)\n",
        "    # đưa về lower\n",
        "    document = document.lower()\n",
        "    # xóa các ký tự không cần thiết\n",
        "    document = re.sub(r'[^\\s\\wáàảãạăắằẳẵặâấầẩẫậéèẻẽẹêếềểễệóòỏõọôốồổỗộơớờởỡợíìỉĩịúùủũụưứừửữựýỳỷỹỵđ_]',' ',document)\n",
        "    # xóa khoảng trắng thừa\n",
        "    document = re.sub(r'\\s+', ' ', document).strip()\n",
        "    return document"
      ],
      "execution_count": 7,
      "outputs": []
    },
    {
      "cell_type": "code",
      "metadata": {
        "colab": {
          "base_uri": "https://localhost:8080/"
        },
        "id": "_hz63sz9Xgpw",
        "outputId": "83bce6bf-5e32-4896-f696-60cc85775e58"
      },
      "source": [
        "for i in range(0,X.count()):\n",
        "  X[i] = tienxuly(X[i])\n",
        "\n",
        "X"
      ],
      "execution_count": 8,
      "outputs": [
        {
          "output_type": "execute_result",
          "data": {
            "text/plain": [
              "0                                            tạm_biệt bot\n",
              "1                                                 goodbye\n",
              "2                                    tạm_biệt mày nhé bot\n",
              "3                                           chào tạm_biệt\n",
              "4                                ngày_mai gặp lại nhé bot\n",
              "                              ...                        \n",
              "1074                khoa công_nghệ thông có website là gì\n",
              "1075    khoa công_nghệ thông_tin trường đại_học công_n...\n",
              "1076     khoa công_nghệ thông_tin có website trường là gì\n",
              "1077    website_khoa công_nghệ thông_tin trường đại_họ...\n",
              "1078               website_khoa công_nghệ thông_tin là gì\n",
              "Name: question, Length: 1079, dtype: object"
            ]
          },
          "metadata": {
            "tags": []
          },
          "execution_count": 8
        }
      ]
    },
    {
      "cell_type": "code",
      "metadata": {
        "colab": {
          "base_uri": "https://localhost:8080/",
          "height": 333
        },
        "id": "o0oaY0SaXklo",
        "outputId": "98b1cb63-a850-4b86-da86-9d78df234582"
      },
      "source": [
        "#chung ta se loai bo stop word trong van ban\n",
        "\n",
        "\n",
        "#bay h dau tien minh muon biet cac stop word o dau va cho nao\n",
        "\n",
        "#tokens = [t for t in text.split()]\n",
        "tokens = []\n",
        "\n",
        "for i in range(0,X.count()):\n",
        "  for j in X[i].split():\n",
        "    tokens.append(j)\n",
        "\n",
        "freq = nltk.FreqDist(tokens)\n",
        "freq.plot(20, cumulative=False)"
      ],
      "execution_count": 9,
      "outputs": [
        {
          "output_type": "display_data",
          "data": {
            "image/png": "[encoded data removed]",
            "text/plain": [
              "<Figure size 432x288 with 1 Axes>"
            ]
          },
          "metadata": {
            "tags": [],
            "needs_background": "light"
          }
        }
      ]
    },
    {
      "cell_type": "code",
      "metadata": {
        "colab": {
          "base_uri": "https://localhost:8080/",
          "height": 54
        },
        "id": "8cWiDWlSXqsS",
        "outputId": "7cd399b7-af5d-4828-a116-c90b5fc4cf87"
      },
      "source": [
        "#nhu vay chung ta biet mot so tu xuat hien xuat hien thuong xuyen va no se anh huong toi mo hinh can du doan\n",
        "#chung ta se loai bo chung de cho model co do chinh xac cao hon\n",
        "\n",
        "stopword = [\"nghành\",\"gì\",\"là\",\"trường\",\"mày\",\"bot\"]\n",
        " \n",
        "def remove_stopwords(line):\n",
        "    words = []\n",
        "    for word in line.strip().split():\n",
        "        if word not in stopword:\n",
        "            words.append(word)\n",
        "    return ' '.join(words)\n",
        "\n",
        "print(X[4])\n",
        "demo = remove_stopwords(X[4])\n",
        "demo"
      ],
      "execution_count": 10,
      "outputs": [
        {
          "output_type": "stream",
          "text": [
            "ngày_mai gặp lại nhé bot\n"
          ],
          "name": "stdout"
        },
        {
          "output_type": "execute_result",
          "data": {
            "application/vnd.google.colaboratory.intrinsic+json": {
              "type": "string"
            },
            "text/plain": [
              "'ngày_mai gặp lại nhé'"
            ]
          },
          "metadata": {
            "tags": []
          },
          "execution_count": 10
        }
      ]
    },
    {
      "cell_type": "code",
      "metadata": {
        "id": "6ow-QIMOX3zZ"
      },
      "source": [
        "for i in range(0,X.count()):\n",
        "  X[i]= remove_stopwords(X[i])"
      ],
      "execution_count": 11,
      "outputs": []
    },
    {
      "cell_type": "code",
      "metadata": {
        "id": "kzvWVAZeX7cA"
      },
      "source": [
        "#buoc tiep theo chung ta se xay dung bo tu dien cho may hoc\n",
        "vectorizer = CountVectorizer()\n",
        "\n",
        "def transform(data):\n",
        "  data= list(data)\n",
        "  return vectorizer.fit_transform(data).todense()\n",
        "\n",
        "data1 = transform(X)"
      ],
      "execution_count": 12,
      "outputs": []
    },
    {
      "cell_type": "code",
      "metadata": {
        "colab": {
          "base_uri": "https://localhost:8080/"
        },
        "id": "bLUFQCKjX-jY",
        "outputId": "6eb14b36-0a7a-4afc-ee5e-ad62b819fc12"
      },
      "source": [
        "print(data1)"
      ],
      "execution_count": 13,
      "outputs": [
        {
          "output_type": "stream",
          "text": [
            "[[0 0 0 ... 0 0 0]\n",
            " [0 0 0 ... 0 0 0]\n",
            " [0 0 0 ... 0 0 0]\n",
            " ...\n",
            " [0 0 0 ... 0 0 0]\n",
            " [0 0 0 ... 0 0 0]\n",
            " [0 0 0 ... 0 0 0]]\n"
          ],
          "name": "stdout"
        }
      ]
    },
    {
      "cell_type": "code",
      "metadata": {
        "colab": {
          "base_uri": "https://localhost:8080/"
        },
        "id": "pZTttpvcYDaq",
        "outputId": "35881f45-8b0e-4a9f-a203-ea0264fc2dcc"
      },
      "source": [
        "#chia du lieu ra lam 2 phan\n",
        "X_train, X_test, Y_train, Y_test = train_test_split(data1, label, test_size=0.1, random_state=0)\n",
        "print(X_train)\n",
        "print(X_test)\n",
        "print(Y_train)\n",
        "print(Y_test)"
      ],
      "execution_count": 14,
      "outputs": [
        {
          "output_type": "stream",
          "text": [
            "[[0 0 0 ... 0 0 0]\n",
            " [0 0 0 ... 0 0 0]\n",
            " [0 0 0 ... 0 0 0]\n",
            " ...\n",
            " [0 0 0 ... 0 0 0]\n",
            " [0 0 0 ... 0 0 0]\n",
            " [0 0 0 ... 0 0 0]]\n",
            "[[0 0 0 ... 0 0 0]\n",
            " [0 0 0 ... 0 0 0]\n",
            " [0 0 0 ... 0 0 0]\n",
            " ...\n",
            " [0 0 0 ... 0 0 0]\n",
            " [0 0 0 ... 0 0 0]\n",
            " [0 0 0 ... 0 0 0]]\n",
            "[ 1 58 42 47 47 58 29 25 20 37 28 58 38 50 21  7  1 51 18 39 47 28 50 26\n",
            " 43 49 26 37 24 45 23 50 49 58 50 36 46 38  9 46 11 47 27 22 40 29 26 53\n",
            "  1 12 11 49 41 22  7 21 38  1 22 16 28 27 21 19 28 42  7 50 47 14 38 27\n",
            " 34 28 41 11 11 25 18 23 50 40 40 53 47  6 40 16 40  8 36 19 45 42 25  1\n",
            " 18 38 44 55 27 46 33 31 47 31 57 18 56 28 48 37  7 11  7 47 52 28 52 56\n",
            " 42 41 25 15 27 49 33 13 16 28 39 15 22 53 58 26 43 27 41 10 50  1 50 14\n",
            " 43 34 42 51 39 49 58  1 25 51 43 14 49 12 50 28 24 29 44 26 20 50 49  0\n",
            " 15 50 27 39  9 16 47 11 52 22 50 52 31 13  1 26 31 50 24 25 10 38 28 27\n",
            " 37 24 47 47  1 50 27 50 37 39 46 12 56 29 25 13 49 46 49 20 52 23 24 36\n",
            " 53 51 28 50 38 41 41 19 37 42 47 50 25 27 11 27  1 14  7 50 29 19 39  7\n",
            " 13 41 52 26 41 50 50 29 50 23  1 43  0 22 50 26 25 39 46 47 47 47  7 57\n",
            " 50 38 38 49 13  7  1 42 41 17 52 50 52 27 34 14 56  8 48  9 47 52 50  7\n",
            " 58 51  1 47 52 55 49 42 21 43 33 36 47 20 47 38 25 37 51 29  7 31 48 15\n",
            "  1 51 46 50 36 26 51 52 50 42 50 28 37 50 27 50 34 29 39 36 22 40 38 55\n",
            " 52 17 50 45 36 50 25 19 36  1 50 25 55 50 50 22 51  1 43  4  1 47 40 43\n",
            " 36 37 50 37 37 13 50 51 12 15 29 50 43 52 29 24 27 49 50 14 52 47 50 44\n",
            " 36 32 25 44 47 26 38 28 13 12 47 21 40 29  8 37 28 47 36 50 50 50 14 10\n",
            " 16 36 16 50 19 51 57 47 42 10 50 43 39 47 45 10 36 43 50 37  1 40 16 25\n",
            " 21 50  7 29 41 47 26 47 38 57 52 38 25 50 27 26 15 50 44  7  7 38 50 37\n",
            " 28 37 26 29 55 51 50 39 28 35 42 40 47 28  7 47 47 11 28 46 27 37 58 42\n",
            " 25 47 18 12 50 36 47 40 56 50 51 50  5 24 10 11 38 13 52 23 39 28 26 46\n",
            " 51 38 19 41 32 42 31 50 19 38 15 36 39 40 26 33 49 57 47 41 38 50 47 29\n",
            " 25 27 51 49 43 18 51 44 46  7 28 33 21 34 37 21 38 50 27 25 36 16 26 13\n",
            " 33 47 37 27 56 56 29 44  7 29 29 28 25  1 44 29 27 50 28  9 36 47 31 47\n",
            "  7 40 55 32 39  9 27 24 16 50 15 27 48 36 15 46 42 57 42 19 16  7 28 27\n",
            " 28 40 22 25 22 53 48 56 39 48 29 51 26  4 46 29 57 27 51 50 54 15 18 43\n",
            " 50 50 28 25 16 50 47 52 27 26 18 25 36 58  7 22 37 43 47 39 47 32 40 29\n",
            " 28 39  9 54 43 33 20 41 36 27 38 47  7  7 36 50 17 51 48 15 52 47  7 42\n",
            " 30 50 50 36 38 30 19 34 40 50 51 55 32 49 16 48 57 21 34 21 50 28 52 47\n",
            " 17 52 36 47  6 50 39 43 37 35 24 41 29 43  1 47 37 43 25 27 25 34 19 32\n",
            " 43  9 50 25 31 33 26  9 31 39 10 51 50 26 32 32 13 29 29 12 29 20 29 50\n",
            " 21 47 52 37 50 43 29 51 36 47 50 20 50 39 25 53 34 26 42 42 41 25 48 56\n",
            " 36 51 45  7 50 32 11 26 55 51 56 52 47 50 50 25 12 41 26 42 57 26 51 15\n",
            " 49 40 34 43 36 22 49 55 39 41 26 52 36  1 40 53 40 50 47  7 14 28 53 48\n",
            " 26 58 55 50 38  2 54 53  3 17 50 52 47  1 21 46 40 52 47 18 52  4 47 52\n",
            " 18 39 27 50 51 29 32 26 51 29 33 27 47 38 51 12 52 19 22 27 38 42  7 37\n",
            " 50 31 38 19 27 26 37 40 43 33 48 10 40 49 26 50 47  2 23 50 27  1 27 41\n",
            " 38 42 29 24 34 50  9 51 41 22 50 40 19 51  6 52 13 21 36 50 47 32 28 42\n",
            " 27 26 37 42 47 39 18 48 47 49 42 23 37 36 53 15 17 51 24 52 40  7 11 50\n",
            " 50 29 25 25 28 12 39 42  9 24  2 47 41 55 15 19 47 18 47 41 25 41 50 47\n",
            " 25 12  1 26 26 53 17 21 41 27 10]\n",
            "[18  3 10 25 11 13 45 50  7 56 43 26  7 13 28 25 38  7 57 25 43 45 50 18\n",
            " 52 52 39  1 24 13 50 17 50 28 40 28 51 52 16 57 37 39 51 24 50 41 26 53\n",
            "  9 29 28 39 57 49 41 10 52 46 55 39 50  1 37 39 43 23 49 37 37 20 22 40\n",
            " 47 16 47 36 50 38 29 58 14 41  0 52  9 16  5 33 39 56 10 50 31 43 28 12\n",
            " 44 39 52 58  1 42 26 38 58 47 47 13]\n"
          ],
          "name": "stdout"
        }
      ]
    },
    {
      "cell_type": "code",
      "metadata": {
        "colab": {
          "base_uri": "https://localhost:8080/"
        },
        "id": "c09OCmk6YHeY",
        "outputId": "d3330763-e27e-4ab8-97ea-3d338fa79f1b"
      },
      "source": [
        "X_test.shape"
      ],
      "execution_count": 15,
      "outputs": [
        {
          "output_type": "execute_result",
          "data": {
            "text/plain": [
              "(108, 468)"
            ]
          },
          "metadata": {
            "tags": []
          },
          "execution_count": 15
        }
      ]
    },
    {
      "cell_type": "code",
      "metadata": {
        "colab": {
          "base_uri": "https://localhost:8080/"
        },
        "id": "D1bdvRk2YLji",
        "outputId": "8dbd35b6-90d8-4e75-d1e3-32227225136d"
      },
      "source": [
        "#khoi tao mo hinh\n",
        "#chung ta se dung loai mo hinh multinomial Naive Bayes de phan loai\n",
        "\n",
        "clf= MultinomialNB()\n",
        "scores = cross_val_score(clf, X_train, Y_train, cv=5)\n",
        "print(\"%0.2f  accuracy with a standard deviation of %0.2f\" % (scores.mean()*100, scores.std()))"
      ],
      "execution_count": 16,
      "outputs": [
        {
          "output_type": "stream",
          "text": [
            "/usr/local/lib/python3.7/dist-packages/sklearn/model_selection/_split.py:667: UserWarning: The least populated class in y has only 1 members, which is less than n_splits=5.\n",
            "  % (min_groups, self.n_splits)), UserWarning)\n"
          ],
          "name": "stderr"
        },
        {
          "output_type": "stream",
          "text": [
            "82.59  accuracy with a standard deviation of 0.02\n"
          ],
          "name": "stdout"
        }
      ]
    },
    {
      "cell_type": "code",
      "metadata": {
        "colab": {
          "base_uri": "https://localhost:8080/"
        },
        "id": "PpwAHcFXYP_A",
        "outputId": "c52dd323-fff2-4b0a-abd6-669704bb848b"
      },
      "source": [
        "#dua du lieu vao cho model hoc\n",
        "clf.fit(X_train,Y_train)"
      ],
      "execution_count": 17,
      "outputs": [
        {
          "output_type": "execute_result",
          "data": {
            "text/plain": [
              "MultinomialNB(alpha=1.0, class_prior=None, fit_prior=True)"
            ]
          },
          "metadata": {
            "tags": []
          },
          "execution_count": 17
        }
      ]
    },
    {
      "cell_type": "code",
      "metadata": {
        "colab": {
          "base_uri": "https://localhost:8080/"
        },
        "id": "-0TWQ3ODYXYY",
        "outputId": "d82a2df7-47f7-423b-de01-90ffda4be875"
      },
      "source": [
        "#kiem tra voi du lieu testing xem do chinh xac cua no la bao nhieu\n",
        "\n",
        "prediction = clf.predict(X_test)\n",
        "print(\"Độ chính xác so với dữ liệu dự đoán và dữ liệu test là: \")\n",
        "accuracy_score(Y_test, prediction)"
      ],
      "execution_count": 18,
      "outputs": [
        {
          "output_type": "stream",
          "text": [
            "Độ chính xác so với dữ liệu dự đoán và dữ liệu test là: \n"
          ],
          "name": "stdout"
        },
        {
          "output_type": "execute_result",
          "data": {
            "text/plain": [
              "0.8148148148148148"
            ]
          },
          "metadata": {
            "tags": []
          },
          "execution_count": 18
        }
      ]
    },
    {
      "cell_type": "code",
      "metadata": {
        "id": "TRuIiAEzYZyg"
      },
      "source": [
        "#bay h se luu file tu vung lai de dung cho sau nay\n",
        "\n",
        "pickle.dump(vectorizer.vocabulary_, open('vocab.pkl', 'wb')) #luu lai\n",
        "pickle.dump(clf, open('NB_ChatBot_model.pkl', 'wb')) #luu model lai\n",
        "#luu cach ma hoa cua nhan lai\n",
        "pickle.dump(le, open('decode_label.pkl', 'wb'))"
      ],
      "execution_count": 20,
      "outputs": []
    }
  ]
}